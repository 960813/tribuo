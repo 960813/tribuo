{
 "cells": [
  {
   "cell_type": "code",
   "execution_count": 1,
   "metadata": {},
   "outputs": [
    {
     "name": "stdout",
     "output_type": "stream",
     "text": [
      "     100 src/test/resources/test_input.irml\r\n"
     ]
    }
   ],
   "source": [
    "! wc -l src/test/resources/test_input.irml"
   ]
  },
  {
   "cell_type": "code",
   "execution_count": null,
   "metadata": {
    "collapsed": true
   },
   "outputs": [],
   "source": [
    "def generate_data(mode='train'):"
   ]
  },
  {
   "cell_type": "code",
   "execution_count": 2,
   "metadata": {},
   "outputs": [
    {
     "name": "stdout",
     "output_type": "stream",
     "text": [
      "{'NEU': 336, 'POS': 332, 'NEG': 332}\n"
     ]
    }
   ],
   "source": [
    "import numpy as np\n",
    "rng = np.random.RandomState(1)\n",
    "labels = ['POS', 'NEG', 'NEU']\n",
    "texts = ['aaa', 'bbb', 'ccc']\n",
    "counts = {label: 0 for label in labels}\n",
    "n = 1000\n",
    "lns = []\n",
    "for i in range(n):\n",
    "    y = rng.choice(labels)\n",
    "    counts[y] += 1\n",
    "    x = rng.choice(texts)\n",
    "#     if y == 'POS': \n",
    "#         x = texts[0]\n",
    "#     elif y == 'NEG':\n",
    "#         x = texts[1]\n",
    "#     else:\n",
    "#         x = texts[2]\n",
    "    \n",
    "    lns.append('%s##%s\\n' % (y, x))\n",
    "print(counts)\n",
    "with open('train_input_multiclass.irml', 'w') as f:\n",
    "    for ln in lns:\n",
    "        f.write(ln)\n"
   ]
  },
  {
   "cell_type": "code",
   "execution_count": 3,
   "metadata": {},
   "outputs": [
    {
     "name": "stdout",
     "output_type": "stream",
     "text": [
      "Class                           n          tp          fn          fp      recall        prec          f1\n",
      "NEG                           174          63         111         113       0.362       0.358       0.360\n",
      "POS                           165           0         165           0       0.000         NaN       0.000\n",
      "NEU                           161         108          53         216       0.671       0.333       0.445\n",
      "Total                         500         171         329         329\n",
      "Accuracy                                                                    0.342\n",
      "Micro Average                                                               0.344         NaN       0.268\n",
      "Balanced Error Rate                                                         0.656\n",
      "\n",
      "         NEG   POS   NEU\n",
      "NEG       63     0   111\n",
      "POS       60     0   105\n",
      "NEU       53     0   108\n",
      "\n"
     ]
    },
    {
     "name": "stderr",
     "output_type": "stream",
     "text": [
      "[08/08/17 17:30:10:174] INFO TrainTest.main Loading data from train_input_multiclass.irml\n",
      "[08/08/17 17:30:10:321] INFO TrainTest.main Loaded 1000 training examples for [NEG, POS, NEU]\n",
      "[08/08/17 17:30:10:335] INFO TrainTest.main Loaded 500 testing examples\n",
      "[08/08/17 17:30:10:384] INFO TrainTest.main Finished evaluating model\n",
      "[08/08/17 17:30:10:418] INFO TrainTest.main Serialized model to file: L2R_LR_multiclass.model\n"
     ]
    }
   ],
   "source": [
    "%%bash\n",
    "\n",
    "MAINCLASS=\"com.oracle.labs.irml.classification.liblinear.TrainTest\"\n",
    "CLASSPATH=target/irml-classification-liblinear-1.5.0-SNAPSHOT-jar-with-dependencies.jar\n",
    "TRAINDATA=\"train_input_multiclass.irml\"\n",
    "TESTDATA=\"test_input_multiclass.irml\"\n",
    "\n",
    "java -cp $CLASSPATH $MAINCLASS -t L2R_LR -f L2R_LR_multiclass.model $TRAINDATA $TESTDATA\n"
   ]
  },
  {
   "cell_type": "code",
   "execution_count": null,
   "metadata": {
    "collapsed": true
   },
   "outputs": [],
   "source": []
  }
 ],
 "metadata": {
  "kernelspec": {
   "display_name": "mlkit",
   "language": "python",
   "name": "mlkit"
  },
  "language_info": {
   "codemirror_mode": {
    "name": "ipython",
    "version": 3
   },
   "file_extension": ".py",
   "mimetype": "text/x-python",
   "name": "python",
   "nbconvert_exporter": "python",
   "pygments_lexer": "ipython3",
   "version": "3.5.2"
  },
  "toc": {
   "colors": {
    "hover_highlight": "#DAA520",
    "navigate_num": "#000000",
    "navigate_text": "#333333",
    "running_highlight": "#FF0000",
    "selected_highlight": "#FFD700",
    "sidebar_border": "#EEEEEE",
    "wrapper_background": "#FFFFFF"
   },
   "moveMenuLeft": true,
   "nav_menu": {
    "height": "12px",
    "width": "252px"
   },
   "navigate_menu": true,
   "number_sections": true,
   "sideBar": true,
   "threshold": 4,
   "toc_cell": false,
   "toc_section_display": "block",
   "toc_window_display": true,
   "widenNotebook": false
  }
 },
 "nbformat": 4,
 "nbformat_minor": 2
}
